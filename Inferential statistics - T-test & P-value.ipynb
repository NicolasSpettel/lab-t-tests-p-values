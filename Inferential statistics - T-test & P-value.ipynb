{
 "cells": [
  {
   "cell_type": "markdown",
   "id": "5254af1e",
   "metadata": {},
   "source": [
    "# Lab | Inferential statistics - T-test & P-value"
   ]
  },
  {
   "cell_type": "markdown",
   "id": "ad0cc037",
   "metadata": {},
   "source": [
    "## We will have another simple example on two sample t test (pooled- when the variances are equal). But this time this is a one sided t-test"
   ]
  },
  {
   "cell_type": "markdown",
   "id": "df7cf611",
   "metadata": {},
   "source": [
    "### In a packing plant, a machine packs cartons with jars. It is supposed that a new machine will pack faster on the average than the machine currently used. To test that hypothesis, the times it takes each machine to pack ten cartons are recorded. The results, in seconds, are shown in the tables in the file files_for_lab/machine.txt. Assume that there is sufficient evidence to conduct the t test, does the data provide sufficient evidence to show if one machine is better than the other"
   ]
  },
  {
   "cell_type": "code",
   "execution_count": 20,
   "id": "45a19202",
   "metadata": {},
   "outputs": [],
   "source": [
    "import pandas as pd\n",
    "import scipy.stats as stats"
   ]
  },
  {
   "cell_type": "code",
   "execution_count": 11,
   "id": "4e0f8f38",
   "metadata": {},
   "outputs": [],
   "source": [
    "df = pd.read_csv(\"files_for_lab/machine.txt\", encoding='utf-16', sep='\\t')"
   ]
  },
  {
   "cell_type": "code",
   "execution_count": 22,
   "id": "ba3fde6a",
   "metadata": {},
   "outputs": [],
   "source": [
    "new = df.iloc[:, 0]"
   ]
  },
  {
   "cell_type": "code",
   "execution_count": 23,
   "id": "b52b5923",
   "metadata": {},
   "outputs": [],
   "source": [
    "old = df.iloc[:, 1]"
   ]
  },
  {
   "cell_type": "markdown",
   "id": "303d4a6d",
   "metadata": {},
   "source": [
    "HA: New machine is faster\n",
    "\n",
    "H0: New machine is not faster"
   ]
  },
  {
   "cell_type": "code",
   "execution_count": 38,
   "id": "f963031d",
   "metadata": {},
   "outputs": [
    {
     "name": "stdout",
     "output_type": "stream",
     "text": [
      "pvalue: 0.0016055712503872579\n",
      "reject Null Hypothesis\n"
     ]
    }
   ],
   "source": [
    "ttest, pvalue = stats.ttest_ind(new, old, alternative = \"less\")\n",
    "print(\"pvalue:\", pvalue)\n",
    "if pvalue < 0.05:\n",
    "    print(\"reject Null Hypothesis\")\n",
    "else:\n",
    "    print(\"no evidence to reject Null Hypothesis\")"
   ]
  },
  {
   "cell_type": "markdown",
   "id": "a054ac57",
   "metadata": {},
   "source": [
    "The new machine is faster!"
   ]
  },
  {
   "cell_type": "markdown",
   "id": "03f83148",
   "metadata": {},
   "source": [
    "## An additional problem (not mandatory): In this case we can't assume that the population variances are equal. Hence in this case we cannot pool the variances. Independent random samples of 17 sophomores and 13 juniors attending a large university yield the following data on grade point averages. Data is provided in the file files_for_lab/student_gpa.txt. At the 5% significance level, do the data provide sufficient evidence to conclude that the mean GPAs of sophomores and juniors at the university differ?"
   ]
  },
  {
   "cell_type": "code",
   "execution_count": 42,
   "id": "be0f5b33",
   "metadata": {},
   "outputs": [],
   "source": [
    "df = pd.read_csv(\"files_for_lab/student_gpa.txt\", sep='\\t')"
   ]
  },
  {
   "cell_type": "code",
   "execution_count": 43,
   "id": "bc1f9f36",
   "metadata": {},
   "outputs": [
    {
     "data": {
      "text/html": [
       "<div>\n",
       "<style scoped>\n",
       "    .dataframe tbody tr th:only-of-type {\n",
       "        vertical-align: middle;\n",
       "    }\n",
       "\n",
       "    .dataframe tbody tr th {\n",
       "        vertical-align: top;\n",
       "    }\n",
       "\n",
       "    .dataframe thead th {\n",
       "        text-align: right;\n",
       "    }\n",
       "</style>\n",
       "<table border=\"1\" class=\"dataframe\">\n",
       "  <thead>\n",
       "    <tr style=\"text-align: right;\">\n",
       "      <th></th>\n",
       "      <th>Sophomores</th>\n",
       "      <th>Juniors</th>\n",
       "    </tr>\n",
       "  </thead>\n",
       "  <tbody>\n",
       "    <tr>\n",
       "      <th>0</th>\n",
       "      <td>3.04</td>\n",
       "      <td>2.56</td>\n",
       "    </tr>\n",
       "    <tr>\n",
       "      <th>1</th>\n",
       "      <td>1.71</td>\n",
       "      <td>2.77</td>\n",
       "    </tr>\n",
       "    <tr>\n",
       "      <th>2</th>\n",
       "      <td>3.30</td>\n",
       "      <td>2.70</td>\n",
       "    </tr>\n",
       "    <tr>\n",
       "      <th>3</th>\n",
       "      <td>2.88</td>\n",
       "      <td>3.00</td>\n",
       "    </tr>\n",
       "    <tr>\n",
       "      <th>4</th>\n",
       "      <td>2.11</td>\n",
       "      <td>2.98</td>\n",
       "    </tr>\n",
       "    <tr>\n",
       "      <th>5</th>\n",
       "      <td>2.60</td>\n",
       "      <td>3.47</td>\n",
       "    </tr>\n",
       "    <tr>\n",
       "      <th>6</th>\n",
       "      <td>2.92</td>\n",
       "      <td>3.26</td>\n",
       "    </tr>\n",
       "    <tr>\n",
       "      <th>7</th>\n",
       "      <td>3.60</td>\n",
       "      <td>3.20</td>\n",
       "    </tr>\n",
       "    <tr>\n",
       "      <th>8</th>\n",
       "      <td>2.28</td>\n",
       "      <td>3.19</td>\n",
       "    </tr>\n",
       "    <tr>\n",
       "      <th>9</th>\n",
       "      <td>2.82</td>\n",
       "      <td>2.65</td>\n",
       "    </tr>\n",
       "    <tr>\n",
       "      <th>10</th>\n",
       "      <td>3.03</td>\n",
       "      <td>3.00</td>\n",
       "    </tr>\n",
       "    <tr>\n",
       "      <th>11</th>\n",
       "      <td>3.13</td>\n",
       "      <td>3.39</td>\n",
       "    </tr>\n",
       "    <tr>\n",
       "      <th>12</th>\n",
       "      <td>2.86</td>\n",
       "      <td>2.58</td>\n",
       "    </tr>\n",
       "    <tr>\n",
       "      <th>13</th>\n",
       "      <td>3.49</td>\n",
       "      <td>NaN</td>\n",
       "    </tr>\n",
       "    <tr>\n",
       "      <th>14</th>\n",
       "      <td>3.11</td>\n",
       "      <td>NaN</td>\n",
       "    </tr>\n",
       "    <tr>\n",
       "      <th>15</th>\n",
       "      <td>2.13</td>\n",
       "      <td>NaN</td>\n",
       "    </tr>\n",
       "    <tr>\n",
       "      <th>16</th>\n",
       "      <td>3.27</td>\n",
       "      <td>NaN</td>\n",
       "    </tr>\n",
       "  </tbody>\n",
       "</table>\n",
       "</div>"
      ],
      "text/plain": [
       "    Sophomores    Juniors\n",
       "0         3.04       2.56\n",
       "1         1.71       2.77\n",
       "2         3.30       2.70\n",
       "3         2.88       3.00\n",
       "4         2.11       2.98\n",
       "5         2.60       3.47\n",
       "6         2.92       3.26\n",
       "7         3.60       3.20\n",
       "8         2.28       3.19\n",
       "9         2.82       2.65\n",
       "10        3.03       3.00\n",
       "11        3.13       3.39\n",
       "12        2.86       2.58\n",
       "13        3.49        NaN\n",
       "14        3.11        NaN\n",
       "15        2.13        NaN\n",
       "16        3.27        NaN"
      ]
     },
     "execution_count": 43,
     "metadata": {},
     "output_type": "execute_result"
    }
   ],
   "source": [
    "df"
   ]
  },
  {
   "cell_type": "code",
   "execution_count": 44,
   "id": "629f2cbf",
   "metadata": {},
   "outputs": [],
   "source": [
    "soph = df.iloc[:,0]"
   ]
  },
  {
   "cell_type": "code",
   "execution_count": 68,
   "id": "87b31ada",
   "metadata": {},
   "outputs": [
    {
     "data": {
      "text/plain": [
       "0     2.56\n",
       "1     2.77\n",
       "2     2.70\n",
       "3     3.00\n",
       "4     2.98\n",
       "5     3.47\n",
       "6     3.26\n",
       "7     3.20\n",
       "8     3.19\n",
       "9     2.65\n",
       "10    3.00\n",
       "11    3.39\n",
       "12    2.58\n",
       "Name:   Juniors, dtype: float64"
      ]
     },
     "execution_count": 68,
     "metadata": {},
     "output_type": "execute_result"
    }
   ],
   "source": [
    "jun = df.iloc[:,1]\n",
    "jun = jun[~jun.isna()]\n",
    "jun"
   ]
  },
  {
   "cell_type": "code",
   "execution_count": 73,
   "id": "24d3efbe",
   "metadata": {},
   "outputs": [],
   "source": [
    "def homocedasticity(group1, group2, significance):\n",
    "    test_stats_var, p_value_var = stats.levene(group1, group2)\n",
    "    print(\"pvalue: \", p_value_var)\n",
    "    if p_value_var < significance:\n",
    "        print(\"Variance not the same\")\n",
    "    else:\n",
    "        print(\"no evidence to reject: Variance same\")"
   ]
  },
  {
   "cell_type": "code",
   "execution_count": 76,
   "id": "97a5e941",
   "metadata": {},
   "outputs": [
    {
     "name": "stdout",
     "output_type": "stream",
     "text": [
      "pvalue:  0.20163821354486944\n",
      "no evidence to reject: Variance same\n"
     ]
    }
   ],
   "source": [
    "homocedasticity(soph, jun, 0.05)"
   ]
  },
  {
   "cell_type": "markdown",
   "id": "ba3ed695",
   "metadata": {},
   "source": [
    "H0: Juniors and Sohpmores are equally good"
   ]
  },
  {
   "cell_type": "code",
   "execution_count": 72,
   "id": "55c2047b",
   "metadata": {},
   "outputs": [
    {
     "name": "stdout",
     "output_type": "stream",
     "text": [
      "pvalue 0.39475359666695975\n",
      "no evidence to reject\n"
     ]
    }
   ],
   "source": [
    "test, pvalue = stats.ttest_ind(soph, jun)\n",
    "print(\"pvalue\", pvalue)\n",
    "if pvalue < 0.05:\n",
    "    print(\"reject null hypothesis\")\n",
    "else:\n",
    "    print(\"no evidence to reject\")"
   ]
  },
  {
   "cell_type": "markdown",
   "id": "eaf193bb",
   "metadata": {},
   "source": [
    "Sophmores and Juniors are equally good!"
   ]
  },
  {
   "cell_type": "code",
   "execution_count": null,
   "id": "248e7cac",
   "metadata": {},
   "outputs": [],
   "source": []
  }
 ],
 "metadata": {
  "kernelspec": {
   "display_name": "Python 3 (ipykernel)",
   "language": "python",
   "name": "python3"
  },
  "language_info": {
   "codemirror_mode": {
    "name": "ipython",
    "version": 3
   },
   "file_extension": ".py",
   "mimetype": "text/x-python",
   "name": "python",
   "nbconvert_exporter": "python",
   "pygments_lexer": "ipython3",
   "version": "3.9.7"
  }
 },
 "nbformat": 4,
 "nbformat_minor": 5
}
